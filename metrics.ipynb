{
 "cells": [
  {
   "cell_type": "code",
   "execution_count": 1,
   "metadata": {},
   "outputs": [],
   "source": [
    "import sewar\n",
    "from PIL import Image,ImageFilter\n",
    "import numpy as np\n",
    "import torch"
   ]
  },
  {
   "cell_type": "code",
   "execution_count": 2,
   "metadata": {},
   "outputs": [],
   "source": [
    "dog_o_img=Image.open('./mf_save/web/images/epoch98.000_target.png')\n",
    "dog_f_img=Image.open('./mf_save/web/images/epoch98.000_output.png')\n",
    "dog_o_np=np.asarray(dog_o_img)\n",
    "dog_f_np=np.asarray(dog_f_img)"
   ]
  },
  {
   "cell_type": "code",
   "execution_count": 4,
   "metadata": {},
   "outputs": [
    {
     "name": "stdout",
     "output_type": "stream",
     "text": [
      "(0.9875673509322471, 0.9951275709483619)\n",
      "30.94996475839828\n"
     ]
    }
   ],
   "source": [
    "print(sewar.ssim(dog_o_np,dog_f_np))\n",
    "print(sewar.psnr(dog_o_np,dog_f_np))"
   ]
  },
  {
   "cell_type": "code",
   "execution_count": 5,
   "metadata": {},
   "outputs": [],
   "source": [
    "bike_o_img=Image.open('./mf_save/web/images/epoch26.000_target.png')\n",
    "bike_f_img=Image.open('./mf_save/web/images/epoch26.000_output.png')\n",
    "bike_o_np=np.asarray(bike_o_img)\n",
    "bike_f_np=np.asarray(bike_f_img)"
   ]
  },
  {
   "cell_type": "code",
   "execution_count": 7,
   "metadata": {},
   "outputs": [
    {
     "name": "stdout",
     "output_type": "stream",
     "text": [
      "(0.763974703275856, 0.766055873399846)\n",
      "15.140452685416143\n"
     ]
    }
   ],
   "source": [
    "print(sewar.ssim(bike_o_np,bike_f_np))\n",
    "print(sewar.psnr(bike_o_np,bike_f_np))\n",
    "sewar.full_ref"
   ]
  },
  {
   "cell_type": "code",
   "execution_count": 2,
   "metadata": {},
   "outputs": [],
   "source": [
    "dog_l_np=np.asarray(Image.open('./mf_save/web/images/epoch98.000_left.png'))\n",
    "dog_r_np=np.asarray(Image.open('./mf_save/web/images/epoch98.000_right.png'))\n",
    "dog_f_np=np.asarray(Image.open('./mf_save/web/images/epoch98.000_output.png'))"
   ]
  },
  {
   "cell_type": "code",
   "execution_count": 5,
   "metadata": {},
   "outputs": [
    {
     "name": "stdout",
     "output_type": "stream",
     "text": [
      "0.9325938361805173\n",
      "28.996099349788867\n"
     ]
    }
   ],
   "source": [
    "print(sewar.ssim(dog_l_np,dog_f_np)[0]*0.5+sewar.ssim(dog_r_np,dog_f_np)[0]*0.5)\n",
    "print(sewar.psnr(dog_l_np,dog_f_np)*0.5+sewar.psnr(dog_r_np,dog_f_np)*0.5)"
   ]
  },
  {
   "cell_type": "code",
   "execution_count": 3,
   "metadata": {},
   "outputs": [],
   "source": [
    "people_l_np=np.asarray(Image.open('./mf_save/web_test/images/test_1_left.png'))\n",
    "people_r_np=np.asarray(Image.open('./mf_save/web_test/images/test_1_right.png'))\n",
    "people_t_np=np.asarray(Image.open('./mf_save/web_test/images/test_1_output.png'))"
   ]
  },
  {
   "cell_type": "code",
   "execution_count": 4,
   "metadata": {},
   "outputs": [
    {
     "name": "stdout",
     "output_type": "stream",
     "text": [
      "0.9394407507722464\n",
      "29.659941030761562\n"
     ]
    }
   ],
   "source": [
    "print(sewar.ssim(people_l_np,people_t_np)[0]*0.5+sewar.ssim(people_r_np,people_t_np)[0]*0.5)\n",
    "print(sewar.psnr(people_l_np,people_t_np)*0.5+sewar.psnr(people_l_np,people_t_np)*0.5)"
   ]
  },
  {
   "cell_type": "code",
   "execution_count": 5,
   "metadata": {},
   "outputs": [],
   "source": [
    "people_dtcwt_np=np.asarray(Image.open('/home/li/下载/fused1_dicwt.png'))\n",
    "people_dtcwt_np=np.repeat(np.expand_dims(people_dtcwt_np,2),3,2)"
   ]
  },
  {
   "cell_type": "code",
   "execution_count": 6,
   "metadata": {},
   "outputs": [
    {
     "name": "stdout",
     "output_type": "stream",
     "text": [
      "0.10534432648729657\n",
      "9.531971136357745\n"
     ]
    }
   ],
   "source": [
    "print(sewar.ssim(people_l_np,people_dtcwt_np)[0]*0.5+sewar.ssim(people_r_np,people_dtcwt_np)[0]*0.5)\n",
    "print(sewar.psnr(people_l_np,people_dtcwt_np)*0.5+sewar.psnr(people_l_np,people_dtcwt_np)*0.5)"
   ]
  },
  {
   "cell_type": "code",
   "execution_count": 18,
   "metadata": {},
   "outputs": [],
   "source": [
    "conv=torch.nn.Conv2d(1,2,4,stride=2,padding=1)"
   ]
  },
  {
   "cell_type": "code",
   "execution_count": 19,
   "metadata": {},
   "outputs": [],
   "source": [
    "x=torch.randn(1,1,256,256)"
   ]
  },
  {
   "cell_type": "code",
   "execution_count": 20,
   "metadata": {},
   "outputs": [],
   "source": [
    "out=conv(x)"
   ]
  },
  {
   "cell_type": "code",
   "execution_count": 1,
   "metadata": {},
   "outputs": [],
   "source": [
    "import argparse"
   ]
  },
  {
   "cell_type": "code",
   "execution_count": 2,
   "metadata": {},
   "outputs": [],
   "source": [
    "parser=argparse.ArgumentParser(formatter_class=argparse.ArgumentDefaultsHelpFormatter)"
   ]
  },
  {
   "cell_type": "code",
   "execution_count": 3,
   "metadata": {},
   "outputs": [
    {
     "data": {
      "text/plain": [
       "_StoreAction(option_strings=['--batch_size'], dest='batch_size', nargs=None, const=None, default=25, type=<class 'int'>, choices=None, help='input batch size', metavar=None)"
      ]
     },
     "execution_count": 3,
     "metadata": {},
     "output_type": "execute_result"
    }
   ],
   "source": [
    "parser.add_argument('--batch_size', type=int, default=25, help='input batch size')"
   ]
  },
  {
   "cell_type": "code",
   "execution_count": 4,
   "metadata": {},
   "outputs": [],
   "source": [
    "opt,_=parser.parse_known_args()"
   ]
  },
  {
   "cell_type": "code",
   "execution_count": 5,
   "metadata": {},
   "outputs": [
    {
     "data": {
      "text/plain": [
       "25"
      ]
     },
     "execution_count": 5,
     "metadata": {},
     "output_type": "execute_result"
    }
   ],
   "source": [
    "opt.batch_size"
   ]
  },
  {
   "cell_type": "code",
   "execution_count": 6,
   "metadata": {},
   "outputs": [
    {
     "name": "stderr",
     "output_type": "stream",
     "text": [
      "usage: ipykernel_launcher.py [-h] [--batch_size BATCH_SIZE]\n",
      "ipykernel_launcher.py: error: unrecognized arguments: -f /run/user/1000/jupyter/kernel-2dc0b427-3a5b-4946-ba50-2879b15d1722.json\n"
     ]
    },
    {
     "ename": "SystemExit",
     "evalue": "2",
     "output_type": "error",
     "traceback": [
      "An exception has occurred, use %tb to see the full traceback.\n",
      "\u001b[0;31mSystemExit\u001b[0m\u001b[0;31m:\u001b[0m 2\n"
     ]
    },
    {
     "name": "stderr",
     "output_type": "stream",
     "text": [
      "/home/li/.conda/envs/py36pt/lib/python3.6/site-packages/IPython/core/interactiveshell.py:2870: UserWarning: To exit: use 'exit', 'quit', or Ctrl-D.\n",
      "  warn(\"To exit: use 'exit', 'quit', or Ctrl-D.\", stacklevel=1)\n"
     ]
    }
   ],
   "source": [
    "vars(parser.parse_args()).items()"
   ]
  },
  {
   "cell_type": "code",
   "execution_count": null,
   "metadata": {},
   "outputs": [],
   "source": []
  }
 ],
 "metadata": {
  "kernelspec": {
   "display_name": "Python 3",
   "language": "python",
   "name": "python3"
  },
  "language_info": {
   "codemirror_mode": {
    "name": "ipython",
    "version": 3
   },
   "file_extension": ".py",
   "mimetype": "text/x-python",
   "name": "python",
   "nbconvert_exporter": "python",
   "pygments_lexer": "ipython3",
   "version": "3.6.8"
  }
 },
 "nbformat": 4,
 "nbformat_minor": 2
}
