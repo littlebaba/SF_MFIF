{
 "cells": [
  {
   "cell_type": "code",
   "execution_count": 1,
   "metadata": {},
   "outputs": [],
   "source": [
    "import os\n",
    "from configparser import ConfigParser\n",
    "from functools import partial\n",
    "from data import create_dataset\n",
    "from models import create_model\n",
    "from util import html,visualizer\n",
    "import time"
   ]
  },
  {
   "cell_type": "code",
   "execution_count": 2,
   "metadata": {},
   "outputs": [],
   "source": [
    "cp=ConfigParser()\n",
    "#cp.read('conf.cfg',encoding='utf-8')\n",
    "cp.read('conf_GAN.cfg',encoding='utf-8')\n",
    "opt=partial(cp.get,cp.sections()[1])"
   ]
  },
  {
   "cell_type": "code",
   "execution_count": 3,
   "metadata": {},
   "outputs": [
    {
     "name": "stdout",
     "output_type": "stream",
     "text": [
      "dataset [MfDataset] was created\n",
      "the number of testing images=27\n",
      "initialize network with normal\n",
      "model [MfGANModel] was created.\n",
      "Loading the model from E:\\2019Pro\\jupPro\\secondpaper_pt\\mf_save\\iter_60000_net_G.pth\n",
      "-------Network initialized---------\n",
      "[Network G] Total number of parametors: 0.364 M\n",
      "-----------------------------------\n"
     ]
    }
   ],
   "source": [
    "dataset=create_dataset(opt)\n",
    "print('the number of testing images=%d'%len(dataset))\n",
    "model=create_model(opt)\n",
    "model.setup(opt)\n",
    "web_dir=os.path.join(opt('checkpoints_dir'),opt('name'),opt('results_dir'))\n",
    "webpage=html.HTML(opt,web_dir,'Experiment = %s, Phase = %s'%(opt('name'), opt('phase')))\n",
    "model.eval()"
   ]
  },
  {
   "cell_type": "code",
   "execution_count": 4,
   "metadata": {},
   "outputs": [
    {
     "name": "stdout",
     "output_type": "stream",
     "text": [
      "processing (0000)-th image... [['E:\\\\matPro\\\\duishuanfangduojujiao\\\\original\\\\left1.png'], ['E:\\\\matPro\\\\duishuanfangduojujiao\\\\original\\\\right1.png']]\n",
      "processing (0001)-th image... [['E:\\\\matPro\\\\duishuanfangduojujiao\\\\original\\\\left2.png'], ['E:\\\\matPro\\\\duishuanfangduojujiao\\\\original\\\\right2.png']]\n",
      "processing (0002)-th image... [['E:\\\\matPro\\\\duishuanfangduojujiao\\\\original\\\\left3.png'], ['E:\\\\matPro\\\\duishuanfangduojujiao\\\\original\\\\right3.png']]\n",
      "processing (0003)-th image... [['E:\\\\matPro\\\\duishuanfangduojujiao\\\\original\\\\left4.png'], ['E:\\\\matPro\\\\duishuanfangduojujiao\\\\original\\\\right4.png']]\n",
      "processing (0004)-th image... [['E:\\\\matPro\\\\duishuanfangduojujiao\\\\original\\\\left5.png'], ['E:\\\\matPro\\\\duishuanfangduojujiao\\\\original\\\\right5.png']]\n",
      "processing (0005)-th image... [['E:\\\\matPro\\\\duishuanfangduojujiao\\\\original\\\\left6.png'], ['E:\\\\matPro\\\\duishuanfangduojujiao\\\\original\\\\right6.png']]\n",
      "processing (0006)-th image... [['E:\\\\matPro\\\\duishuanfangduojujiao\\\\original\\\\left7.png'], ['E:\\\\matPro\\\\duishuanfangduojujiao\\\\original\\\\right7.png']]\n",
      "processing (0007)-th image... [['E:\\\\matPro\\\\duishuanfangduojujiao\\\\original\\\\left8.png'], ['E:\\\\matPro\\\\duishuanfangduojujiao\\\\original\\\\right8.png']]\n",
      "processing (0008)-th image... [['E:\\\\matPro\\\\duishuanfangduojujiao\\\\original\\\\left9.png'], ['E:\\\\matPro\\\\duishuanfangduojujiao\\\\original\\\\right9.png']]\n",
      "processing (0009)-th image... [['E:\\\\matPro\\\\duishuanfangduojujiao\\\\original\\\\left10.png'], ['E:\\\\matPro\\\\duishuanfangduojujiao\\\\original\\\\right10.png']]\n",
      "processing (0010)-th image... [['E:\\\\matPro\\\\duishuanfangduojujiao\\\\original\\\\left11.png'], ['E:\\\\matPro\\\\duishuanfangduojujiao\\\\original\\\\right11.png']]\n",
      "processing (0011)-th image... [['E:\\\\matPro\\\\duishuanfangduojujiao\\\\original\\\\left12.png'], ['E:\\\\matPro\\\\duishuanfangduojujiao\\\\original\\\\right12.png']]\n",
      "processing (0012)-th image... [['E:\\\\matPro\\\\duishuanfangduojujiao\\\\original\\\\left13.png'], ['E:\\\\matPro\\\\duishuanfangduojujiao\\\\original\\\\right13.png']]\n",
      "processing (0013)-th image... [['E:\\\\matPro\\\\duishuanfangduojujiao\\\\original\\\\left14.png'], ['E:\\\\matPro\\\\duishuanfangduojujiao\\\\original\\\\right14.png']]\n",
      "processing (0014)-th image... [['E:\\\\matPro\\\\duishuanfangduojujiao\\\\original\\\\left15.png'], ['E:\\\\matPro\\\\duishuanfangduojujiao\\\\original\\\\right15.png']]\n",
      "processing (0015)-th image... [['E:\\\\matPro\\\\duishuanfangduojujiao\\\\original\\\\left16.png'], ['E:\\\\matPro\\\\duishuanfangduojujiao\\\\original\\\\right16.png']]\n",
      "processing (0016)-th image... [['E:\\\\matPro\\\\duishuanfangduojujiao\\\\original\\\\left17.png'], ['E:\\\\matPro\\\\duishuanfangduojujiao\\\\original\\\\right17.png']]\n",
      "processing (0017)-th image... [['E:\\\\matPro\\\\duishuanfangduojujiao\\\\original\\\\left18.png'], ['E:\\\\matPro\\\\duishuanfangduojujiao\\\\original\\\\right18.png']]\n",
      "processing (0018)-th image... [['E:\\\\matPro\\\\duishuanfangduojujiao\\\\original\\\\left19.png'], ['E:\\\\matPro\\\\duishuanfangduojujiao\\\\original\\\\right19.png']]\n",
      "processing (0019)-th image... [['E:\\\\matPro\\\\duishuanfangduojujiao\\\\original\\\\left20.png'], ['E:\\\\matPro\\\\duishuanfangduojujiao\\\\original\\\\right20.png']]\n",
      "processing (0020)-th image... [['E:\\\\matPro\\\\duishuanfangduojujiao\\\\original\\\\left21.png'], ['E:\\\\matPro\\\\duishuanfangduojujiao\\\\original\\\\right21.png']]\n",
      "processing (0021)-th image... [['E:\\\\matPro\\\\duishuanfangduojujiao\\\\original\\\\left22.png'], ['E:\\\\matPro\\\\duishuanfangduojujiao\\\\original\\\\right22.png']]\n",
      "processing (0022)-th image... [['E:\\\\matPro\\\\duishuanfangduojujiao\\\\original\\\\left23.png'], ['E:\\\\matPro\\\\duishuanfangduojujiao\\\\original\\\\right23.png']]\n",
      "processing (0023)-th image... [['E:\\\\matPro\\\\duishuanfangduojujiao\\\\original\\\\left24.png'], ['E:\\\\matPro\\\\duishuanfangduojujiao\\\\original\\\\right24.png']]\n",
      "processing (0024)-th image... [['E:\\\\matPro\\\\duishuanfangduojujiao\\\\original\\\\left25.png'], ['E:\\\\matPro\\\\duishuanfangduojujiao\\\\original\\\\right25.png']]\n",
      "processing (0025)-th image... [['E:\\\\matPro\\\\duishuanfangduojujiao\\\\original\\\\left26.png'], ['E:\\\\matPro\\\\duishuanfangduojujiao\\\\original\\\\right26.png']]\n",
      "processing (0026)-th image... [['E:\\\\matPro\\\\duishuanfangduojujiao\\\\original\\\\left27.png'], ['E:\\\\matPro\\\\duishuanfangduojujiao\\\\original\\\\right27.png']]\n",
      "Time consuming is 0.129929\n"
     ]
    }
   ],
   "source": [
    "with open(os.path.join(webpage.get_image_dir(),'record.txt'),'w') as file:\n",
    "    file.write(str(cp.items('train')))\n",
    "s=time.time()\n",
    "for i,data in enumerate(dataset):\n",
    "    model.set_input(data)\n",
    "    model.test()\n",
    "    visuals=model.get_currnet_visuals()\n",
    "    img_path=model.get_image_paths()\n",
    "    print('processing (%04d)-th image... %s' % (i, img_path))\n",
    "    visualizer.save_image(webpage,i,visuals,img_path)\n",
    "e=time.time()\n",
    "print('Time consuming is %f' %((e-s)/27))\n",
    "webpage.save()"
   ]
  },
  {
   "cell_type": "code",
   "execution_count": null,
   "metadata": {},
   "outputs": [],
   "source": []
  }
 ],
 "metadata": {
  "kernelspec": {
   "display_name": "Python 3",
   "language": "python",
   "name": "python3"
  },
  "language_info": {
   "codemirror_mode": {
    "name": "ipython",
    "version": 3
   },
   "file_extension": ".py",
   "mimetype": "text/x-python",
   "name": "python",
   "nbconvert_exporter": "python",
   "pygments_lexer": "ipython3",
   "version": "3.6.8"
  }
 },
 "nbformat": 4,
 "nbformat_minor": 2
}
